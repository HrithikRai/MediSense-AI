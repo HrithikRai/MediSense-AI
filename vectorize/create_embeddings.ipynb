{
 "cells": [
  {
   "cell_type": "code",
   "execution_count": 1,
   "metadata": {},
   "outputs": [
    {
     "name": "stderr",
     "output_type": "stream",
     "text": [
      "f:\\Users\\MSI\\miniconda3\\envs\\gpu_ml\\lib\\site-packages\\sentence_transformers\\cross_encoder\\CrossEncoder.py:13: TqdmWarning: IProgress not found. Please update jupyter and ipywidgets. See https://ipywidgets.readthedocs.io/en/stable/user_install.html\n",
      "  from tqdm.autonotebook import tqdm, trange\n"
     ]
    }
   ],
   "source": [
    "# Create embeddings using BERT\n",
    "from sentence_transformers import SentenceTransformer\n",
    "model = SentenceTransformer(\"multi-qa-distilbert-cos-v1\")"
   ]
  },
  {
   "cell_type": "code",
   "execution_count": 15,
   "metadata": {},
   "outputs": [],
   "source": [
    "import pandas as pd\n",
    "doctor = pd.read_csv('data/processed/doctor.csv')"
   ]
  },
  {
   "cell_type": "code",
   "execution_count": 26,
   "metadata": {},
   "outputs": [
    {
     "data": {
      "text/plain": [
       "768"
      ]
     },
     "execution_count": 26,
     "metadata": {},
     "output_type": "execute_result"
    }
   ],
   "source": [
    "model.get_sentence_embedding_dimension()"
   ]
  },
  {
   "cell_type": "code",
   "execution_count": 16,
   "metadata": {},
   "outputs": [
    {
     "data": {
      "text/html": [
       "<div>\n",
       "<style scoped>\n",
       "    .dataframe tbody tr th:only-of-type {\n",
       "        vertical-align: middle;\n",
       "    }\n",
       "\n",
       "    .dataframe tbody tr th {\n",
       "        vertical-align: top;\n",
       "    }\n",
       "\n",
       "    .dataframe thead th {\n",
       "        text-align: right;\n",
       "    }\n",
       "</style>\n",
       "<table border=\"1\" class=\"dataframe\">\n",
       "  <thead>\n",
       "    <tr style=\"text-align: right;\">\n",
       "      <th></th>\n",
       "      <th>Unnamed: 0</th>\n",
       "      <th>drug_id</th>\n",
       "      <th>drug_name</th>\n",
       "      <th>type</th>\n",
       "      <th>disease</th>\n",
       "      <th>adult_dosage (times/day)</th>\n",
       "      <th>dosage (num_days)</th>\n",
       "      <th>name</th>\n",
       "      <th>price_per_tablet</th>\n",
       "      <th>symptom</th>\n",
       "    </tr>\n",
       "  </thead>\n",
       "  <tbody>\n",
       "    <tr>\n",
       "      <th>0</th>\n",
       "      <td>0</td>\n",
       "      <td>1</td>\n",
       "      <td>Amoxycillin</td>\n",
       "      <td>Penicillin</td>\n",
       "      <td>Bacterial Infections</td>\n",
       "      <td>2</td>\n",
       "      <td>7.0</td>\n",
       "      <td>Augmentin 625 Duo Tablet</td>\n",
       "      <td>22.342000</td>\n",
       "      <td>fever, cough</td>\n",
       "    </tr>\n",
       "    <tr>\n",
       "      <th>1</th>\n",
       "      <td>1</td>\n",
       "      <td>2</td>\n",
       "      <td>Ibuprofen</td>\n",
       "      <td>NSAID</td>\n",
       "      <td>Pain Relief</td>\n",
       "      <td>3</td>\n",
       "      <td>5.0</td>\n",
       "      <td>Adiflam Plus 400 mg/500 mg Tablet</td>\n",
       "      <td>1.950000</td>\n",
       "      <td>inflammation, joint pain</td>\n",
       "    </tr>\n",
       "    <tr>\n",
       "      <th>2</th>\n",
       "      <td>2</td>\n",
       "      <td>3</td>\n",
       "      <td>Metformin</td>\n",
       "      <td>Biguanide</td>\n",
       "      <td>Diabetes</td>\n",
       "      <td>2</td>\n",
       "      <td>30.0</td>\n",
       "      <td>Afoglip M  500 Tablet ER</td>\n",
       "      <td>17.053333</td>\n",
       "      <td>high blood sugar, high insulin</td>\n",
       "    </tr>\n",
       "    <tr>\n",
       "      <th>3</th>\n",
       "      <td>3</td>\n",
       "      <td>5</td>\n",
       "      <td>Cetirizine</td>\n",
       "      <td>Antihistamine</td>\n",
       "      <td>Allergy</td>\n",
       "      <td>1</td>\n",
       "      <td>3.0</td>\n",
       "      <td>Alerid Syrup</td>\n",
       "      <td>0.728000</td>\n",
       "      <td>runny nose</td>\n",
       "    </tr>\n",
       "    <tr>\n",
       "      <th>4</th>\n",
       "      <td>4</td>\n",
       "      <td>6</td>\n",
       "      <td>Paracetamol</td>\n",
       "      <td>Analgesic</td>\n",
       "      <td>Fever</td>\n",
       "      <td>3</td>\n",
       "      <td>3.0</td>\n",
       "      <td>Acton-OR Tablet SR</td>\n",
       "      <td>5.055000</td>\n",
       "      <td>headache</td>\n",
       "    </tr>\n",
       "  </tbody>\n",
       "</table>\n",
       "</div>"
      ],
      "text/plain": [
       "   Unnamed: 0  drug_id    drug_name           type               disease  \\\n",
       "0           0        1  Amoxycillin     Penicillin  Bacterial Infections   \n",
       "1           1        2    Ibuprofen          NSAID           Pain Relief   \n",
       "2           2        3    Metformin      Biguanide              Diabetes   \n",
       "3           3        5   Cetirizine  Antihistamine               Allergy   \n",
       "4           4        6  Paracetamol      Analgesic                 Fever   \n",
       "\n",
       "   adult_dosage (times/day)  dosage (num_days)  \\\n",
       "0                         2                7.0   \n",
       "1                         3                5.0   \n",
       "2                         2               30.0   \n",
       "3                         1                3.0   \n",
       "4                         3                3.0   \n",
       "\n",
       "                                name  price_per_tablet  \\\n",
       "0           Augmentin 625 Duo Tablet         22.342000   \n",
       "1  Adiflam Plus 400 mg/500 mg Tablet          1.950000   \n",
       "2           Afoglip M  500 Tablet ER         17.053333   \n",
       "3                       Alerid Syrup          0.728000   \n",
       "4                 Acton-OR Tablet SR          5.055000   \n",
       "\n",
       "                          symptom  \n",
       "0                    fever, cough  \n",
       "1        inflammation, joint pain  \n",
       "2  high blood sugar, high insulin  \n",
       "3                      runny nose  \n",
       "4                        headache  "
      ]
     },
     "execution_count": 16,
     "metadata": {},
     "output_type": "execute_result"
    }
   ],
   "source": [
    "doctor.head()"
   ]
  },
  {
   "cell_type": "code",
   "execution_count": 18,
   "metadata": {},
   "outputs": [],
   "source": [
    "# meta data is added to review the strength of search results, to better gauge through the relevance of results\n",
    "doctor['metadata'] = doctor.apply(lambda row: {\n",
    "    \"disease\" : row['disease'],\n",
    "    \"symptoms\" : row['symptom'],\n",
    "    \"treatment_drug\" : row[\"drug_name\"],\n",
    "    \"medicine_name\": row['name'],\n",
    "    \"type_of_drug\": row['type'],\n",
    "    \"daily_adult_dosage\" : row['adult_dosage (times/day)'],\n",
    "    \"num_days\" : row['dosage (num_days)'],\n",
    "    \"price/unit\": row['price_per_tablet']\n",
    "                }, axis = 1)"
   ]
  },
  {
   "cell_type": "code",
   "execution_count": 19,
   "metadata": {},
   "outputs": [
    {
     "data": {
      "text/plain": [
       "0    {'disease': 'Bacterial Infections', 'symptoms'...\n",
       "1    {'disease': 'Pain Relief', 'symptoms': 'inflam...\n",
       "Name: metadata, dtype: object"
      ]
     },
     "execution_count": 19,
     "metadata": {},
     "output_type": "execute_result"
    }
   ],
   "source": [
    "doctor['metadata'].head(2)"
   ]
  },
  {
   "cell_type": "code",
   "execution_count": 20,
   "metadata": {},
   "outputs": [],
   "source": [
    "# to create weighted semantic search, we assign weights to the corresponding features\n",
    "weight_symptom = 6\n",
    "weight_disease = 4\n",
    "\n",
    "def create_embeddings(row):\n",
    "    # Encode individual components\n",
    "    emb_symptom = model.encode(row['symptom'], show_progress_bar=False) * weight_symptom\n",
    "    emb_disease = model.encode(row['disease'], show_progress_bar=False) * weight_disease\n",
    "    # Combine embeddings by averaging them\n",
    "    combined_embedding = (emb_symptom + emb_disease) / (weight_symptom + weight_disease)\n",
    "    return combined_embedding"
   ]
  },
  {
   "cell_type": "code",
   "execution_count": 32,
   "metadata": {},
   "outputs": [],
   "source": [
    "doctor['embedding'] = doctor.apply(create_embeddings, axis=1)"
   ]
  },
  {
   "cell_type": "code",
   "execution_count": 41,
   "metadata": {},
   "outputs": [
    {
     "name": "stdout",
     "output_type": "stream",
     "text": [
      "0     <class 'numpy.ndarray'>\n",
      "1     <class 'numpy.ndarray'>\n",
      "2     <class 'numpy.ndarray'>\n",
      "3     <class 'numpy.ndarray'>\n",
      "4     <class 'numpy.ndarray'>\n",
      "               ...           \n",
      "81    <class 'numpy.ndarray'>\n",
      "82    <class 'numpy.ndarray'>\n",
      "83    <class 'numpy.ndarray'>\n",
      "84    <class 'numpy.ndarray'>\n",
      "85    <class 'numpy.ndarray'>\n",
      "Name: embedding, Length: 86, dtype: object\n"
     ]
    }
   ],
   "source": [
    "print(doctor['embedding'].apply(type))"
   ]
  },
  {
   "cell_type": "code",
   "execution_count": 29,
   "metadata": {},
   "outputs": [
    {
     "data": {
      "text/html": [
       "<div>\n",
       "<style scoped>\n",
       "    .dataframe tbody tr th:only-of-type {\n",
       "        vertical-align: middle;\n",
       "    }\n",
       "\n",
       "    .dataframe tbody tr th {\n",
       "        vertical-align: top;\n",
       "    }\n",
       "\n",
       "    .dataframe thead th {\n",
       "        text-align: right;\n",
       "    }\n",
       "</style>\n",
       "<table border=\"1\" class=\"dataframe\">\n",
       "  <thead>\n",
       "    <tr style=\"text-align: right;\">\n",
       "      <th></th>\n",
       "      <th>drug_id</th>\n",
       "      <th>drug_name</th>\n",
       "      <th>type</th>\n",
       "      <th>disease</th>\n",
       "      <th>adult_dosage (times/day)</th>\n",
       "      <th>dosage (num_days)</th>\n",
       "      <th>name</th>\n",
       "      <th>price_per_tablet</th>\n",
       "      <th>symptom</th>\n",
       "      <th>metadata</th>\n",
       "      <th>embedding</th>\n",
       "    </tr>\n",
       "  </thead>\n",
       "  <tbody>\n",
       "    <tr>\n",
       "      <th>0</th>\n",
       "      <td>1</td>\n",
       "      <td>Amoxycillin</td>\n",
       "      <td>Penicillin</td>\n",
       "      <td>Bacterial Infections</td>\n",
       "      <td>2</td>\n",
       "      <td>7.0</td>\n",
       "      <td>Augmentin 625 Duo Tablet</td>\n",
       "      <td>22.342000</td>\n",
       "      <td>fever, cough</td>\n",
       "      <td>{'disease': 'Bacterial Infections', 'symptoms'...</td>\n",
       "      <td>[0.04866177588701248, 0.040710460394620895, -0...</td>\n",
       "    </tr>\n",
       "    <tr>\n",
       "      <th>1</th>\n",
       "      <td>2</td>\n",
       "      <td>Ibuprofen</td>\n",
       "      <td>NSAID</td>\n",
       "      <td>Pain Relief</td>\n",
       "      <td>3</td>\n",
       "      <td>5.0</td>\n",
       "      <td>Adiflam Plus 400 mg/500 mg Tablet</td>\n",
       "      <td>1.950000</td>\n",
       "      <td>inflammation, joint pain</td>\n",
       "      <td>{'disease': 'Pain Relief', 'symptoms': 'inflam...</td>\n",
       "      <td>[-0.06187807396054268, 0.06776778399944305, -0...</td>\n",
       "    </tr>\n",
       "    <tr>\n",
       "      <th>2</th>\n",
       "      <td>3</td>\n",
       "      <td>Metformin</td>\n",
       "      <td>Biguanide</td>\n",
       "      <td>Diabetes</td>\n",
       "      <td>2</td>\n",
       "      <td>30.0</td>\n",
       "      <td>Afoglip M  500 Tablet ER</td>\n",
       "      <td>17.053333</td>\n",
       "      <td>high blood sugar, high insulin</td>\n",
       "      <td>{'disease': 'Diabetes', 'symptoms': 'high bloo...</td>\n",
       "      <td>[-0.04151008278131485, 0.011696846224367619, -...</td>\n",
       "    </tr>\n",
       "    <tr>\n",
       "      <th>3</th>\n",
       "      <td>5</td>\n",
       "      <td>Cetirizine</td>\n",
       "      <td>Antihistamine</td>\n",
       "      <td>Allergy</td>\n",
       "      <td>1</td>\n",
       "      <td>3.0</td>\n",
       "      <td>Alerid Syrup</td>\n",
       "      <td>0.728000</td>\n",
       "      <td>runny nose</td>\n",
       "      <td>{'disease': 'Allergy', 'symptoms': 'runny nose...</td>\n",
       "      <td>[-0.004205550067126751, 0.04382673650979996, 0...</td>\n",
       "    </tr>\n",
       "    <tr>\n",
       "      <th>4</th>\n",
       "      <td>6</td>\n",
       "      <td>Paracetamol</td>\n",
       "      <td>Analgesic</td>\n",
       "      <td>Fever</td>\n",
       "      <td>3</td>\n",
       "      <td>3.0</td>\n",
       "      <td>Acton-OR Tablet SR</td>\n",
       "      <td>5.055000</td>\n",
       "      <td>headache</td>\n",
       "      <td>{'disease': 'Fever', 'symptoms': 'headache', '...</td>\n",
       "      <td>[-0.03125862032175064, 0.08302132785320282, 0....</td>\n",
       "    </tr>\n",
       "    <tr>\n",
       "      <th>...</th>\n",
       "      <td>...</td>\n",
       "      <td>...</td>\n",
       "      <td>...</td>\n",
       "      <td>...</td>\n",
       "      <td>...</td>\n",
       "      <td>...</td>\n",
       "      <td>...</td>\n",
       "      <td>...</td>\n",
       "      <td>...</td>\n",
       "      <td>...</td>\n",
       "      <td>...</td>\n",
       "    </tr>\n",
       "    <tr>\n",
       "      <th>81</th>\n",
       "      <td>96</td>\n",
       "      <td>Olmesartan</td>\n",
       "      <td>Angiotensin II Receptor Blocker</td>\n",
       "      <td>Hypertension</td>\n",
       "      <td>1</td>\n",
       "      <td>30.0</td>\n",
       "      <td>Asomex-OH Tablet</td>\n",
       "      <td>17.205000</td>\n",
       "      <td>high blood pressure</td>\n",
       "      <td>{'disease': 'Hypertension', 'symptoms': 'high ...</td>\n",
       "      <td>[0.001667603151872754, 0.03967957943677902, -0...</td>\n",
       "    </tr>\n",
       "    <tr>\n",
       "      <th>82</th>\n",
       "      <td>97</td>\n",
       "      <td>Colchicine</td>\n",
       "      <td>Anti-Gout Agent</td>\n",
       "      <td>Gout</td>\n",
       "      <td>1</td>\n",
       "      <td>7.0</td>\n",
       "      <td>Colochicine 0.5mg Tablet</td>\n",
       "      <td>1.058000</td>\n",
       "      <td>inflammation</td>\n",
       "      <td>{'disease': 'Gout', 'symptoms': 'inflammation'...</td>\n",
       "      <td>[-0.09234916418790817, 0.028246885165572166, -...</td>\n",
       "    </tr>\n",
       "    <tr>\n",
       "      <th>83</th>\n",
       "      <td>98</td>\n",
       "      <td>Hydroxyzine</td>\n",
       "      <td>Antihistamine</td>\n",
       "      <td>Anxiety</td>\n",
       "      <td>1</td>\n",
       "      <td>7.0</td>\n",
       "      <td>Atarax 25mg Tablet</td>\n",
       "      <td>5.700000</td>\n",
       "      <td>sedation</td>\n",
       "      <td>{'disease': 'Anxiety', 'symptoms': 'sedation',...</td>\n",
       "      <td>[0.004015962593257427, 0.026121145114302635, -...</td>\n",
       "    </tr>\n",
       "    <tr>\n",
       "      <th>84</th>\n",
       "      <td>99</td>\n",
       "      <td>Orlistat</td>\n",
       "      <td>Lipase Inhibitor</td>\n",
       "      <td>Obesity</td>\n",
       "      <td>1</td>\n",
       "      <td>30.0</td>\n",
       "      <td>AM Slim 120mg Capsule</td>\n",
       "      <td>45.000000</td>\n",
       "      <td>weight loss</td>\n",
       "      <td>{'disease': 'Obesity', 'symptoms': 'weight los...</td>\n",
       "      <td>[-0.013387642800807953, 0.021259373053908348, ...</td>\n",
       "    </tr>\n",
       "    <tr>\n",
       "      <th>85</th>\n",
       "      <td>100</td>\n",
       "      <td>Simvastatin</td>\n",
       "      <td>Statin</td>\n",
       "      <td>Hypercholesterolemia</td>\n",
       "      <td>1</td>\n",
       "      <td>30.0</td>\n",
       "      <td>Alvastin 10mg Tablet</td>\n",
       "      <td>7.000000</td>\n",
       "      <td>leg pain</td>\n",
       "      <td>{'disease': 'Hypercholesterolemia', 'symptoms'...</td>\n",
       "      <td>[-0.0073953308165073395, -0.011134261265397072...</td>\n",
       "    </tr>\n",
       "  </tbody>\n",
       "</table>\n",
       "<p>86 rows × 11 columns</p>\n",
       "</div>"
      ],
      "text/plain": [
       "    drug_id    drug_name                             type  \\\n",
       "0         1  Amoxycillin                       Penicillin   \n",
       "1         2    Ibuprofen                            NSAID   \n",
       "2         3    Metformin                        Biguanide   \n",
       "3         5   Cetirizine                    Antihistamine   \n",
       "4         6  Paracetamol                        Analgesic   \n",
       "..      ...          ...                              ...   \n",
       "81       96   Olmesartan  Angiotensin II Receptor Blocker   \n",
       "82       97   Colchicine                  Anti-Gout Agent   \n",
       "83       98  Hydroxyzine                    Antihistamine   \n",
       "84       99     Orlistat                 Lipase Inhibitor   \n",
       "85      100  Simvastatin                           Statin   \n",
       "\n",
       "                 disease  adult_dosage (times/day)  dosage (num_days)  \\\n",
       "0   Bacterial Infections                         2                7.0   \n",
       "1            Pain Relief                         3                5.0   \n",
       "2               Diabetes                         2               30.0   \n",
       "3                Allergy                         1                3.0   \n",
       "4                  Fever                         3                3.0   \n",
       "..                   ...                       ...                ...   \n",
       "81          Hypertension                         1               30.0   \n",
       "82                  Gout                         1                7.0   \n",
       "83               Anxiety                         1                7.0   \n",
       "84               Obesity                         1               30.0   \n",
       "85  Hypercholesterolemia                         1               30.0   \n",
       "\n",
       "                                 name  price_per_tablet  \\\n",
       "0            Augmentin 625 Duo Tablet         22.342000   \n",
       "1   Adiflam Plus 400 mg/500 mg Tablet          1.950000   \n",
       "2            Afoglip M  500 Tablet ER         17.053333   \n",
       "3                        Alerid Syrup          0.728000   \n",
       "4                  Acton-OR Tablet SR          5.055000   \n",
       "..                                ...               ...   \n",
       "81                   Asomex-OH Tablet         17.205000   \n",
       "82           Colochicine 0.5mg Tablet          1.058000   \n",
       "83                 Atarax 25mg Tablet          5.700000   \n",
       "84              AM Slim 120mg Capsule         45.000000   \n",
       "85               Alvastin 10mg Tablet          7.000000   \n",
       "\n",
       "                           symptom  \\\n",
       "0                     fever, cough   \n",
       "1         inflammation, joint pain   \n",
       "2   high blood sugar, high insulin   \n",
       "3                       runny nose   \n",
       "4                         headache   \n",
       "..                             ...   \n",
       "81             high blood pressure   \n",
       "82                    inflammation   \n",
       "83                        sedation   \n",
       "84                     weight loss   \n",
       "85                        leg pain   \n",
       "\n",
       "                                             metadata  \\\n",
       "0   {'disease': 'Bacterial Infections', 'symptoms'...   \n",
       "1   {'disease': 'Pain Relief', 'symptoms': 'inflam...   \n",
       "2   {'disease': 'Diabetes', 'symptoms': 'high bloo...   \n",
       "3   {'disease': 'Allergy', 'symptoms': 'runny nose...   \n",
       "4   {'disease': 'Fever', 'symptoms': 'headache', '...   \n",
       "..                                                ...   \n",
       "81  {'disease': 'Hypertension', 'symptoms': 'high ...   \n",
       "82  {'disease': 'Gout', 'symptoms': 'inflammation'...   \n",
       "83  {'disease': 'Anxiety', 'symptoms': 'sedation',...   \n",
       "84  {'disease': 'Obesity', 'symptoms': 'weight los...   \n",
       "85  {'disease': 'Hypercholesterolemia', 'symptoms'...   \n",
       "\n",
       "                                            embedding  \n",
       "0   [0.04866177588701248, 0.040710460394620895, -0...  \n",
       "1   [-0.06187807396054268, 0.06776778399944305, -0...  \n",
       "2   [-0.04151008278131485, 0.011696846224367619, -...  \n",
       "3   [-0.004205550067126751, 0.04382673650979996, 0...  \n",
       "4   [-0.03125862032175064, 0.08302132785320282, 0....  \n",
       "..                                                ...  \n",
       "81  [0.001667603151872754, 0.03967957943677902, -0...  \n",
       "82  [-0.09234916418790817, 0.028246885165572166, -...  \n",
       "83  [0.004015962593257427, 0.026121145114302635, -...  \n",
       "84  [-0.013387642800807953, 0.021259373053908348, ...  \n",
       "85  [-0.0073953308165073395, -0.011134261265397072...  \n",
       "\n",
       "[86 rows x 11 columns]"
      ]
     },
     "execution_count": 29,
     "metadata": {},
     "output_type": "execute_result"
    }
   ],
   "source": [
    "doctor"
   ]
  },
  {
   "cell_type": "code",
   "execution_count": 30,
   "metadata": {},
   "outputs": [],
   "source": [
    "doctor.to_csv('data/processed/embeddings.csv')"
   ]
  },
  {
   "cell_type": "code",
   "execution_count": 34,
   "metadata": {},
   "outputs": [
    {
     "data": {
      "text/plain": [
       "True"
      ]
     },
     "execution_count": 34,
     "metadata": {},
     "output_type": "execute_result"
    }
   ],
   "source": [
    "# connecting to pinecone\n",
    "import os\n",
    "import pinecone\n",
    "from pinecone import Pinecone, ServerlessSpec\n",
    "from dotenv import load_dotenv, find_dotenv\n",
    "\n",
    "load_dotenv(find_dotenv(),override=True)"
   ]
  },
  {
   "cell_type": "code",
   "execution_count": 35,
   "metadata": {},
   "outputs": [],
   "source": [
    "pc = Pinecone( api_key = os.environ.get(\"PINECONE_API_KEY\"), environment = os.environ.get(\"PINECONE_ENV\"))"
   ]
  },
  {
   "cell_type": "code",
   "execution_count": 36,
   "metadata": {},
   "outputs": [],
   "source": [
    "pc.delete_index('medi-sense-ai')"
   ]
  },
  {
   "cell_type": "code",
   "execution_count": 37,
   "metadata": {},
   "outputs": [],
   "source": [
    "embedding_dimension = 768 #model.get_sentence_embedding_dimension()\n",
    "# Create an index for storing embeddings\n",
    "index_name = 'medi-sense-ai'\n",
    "if index_name not in pc.list_indexes():\n",
    "    pc.create_index(index_name,\n",
    "                    dimension=embedding_dimension,\n",
    "                    metric='cosine',\n",
    "                    spec=ServerlessSpec(\n",
    "                        cloud = \"aws\",\n",
    "                        region = \"us-east-1\"\n",
    "                    ))\n",
    "index = pc.Index(index_name)"
   ]
  },
  {
   "cell_type": "code",
   "execution_count": 48,
   "metadata": {},
   "outputs": [],
   "source": [
    "vectors_to_upsert = [(str(row['drug_id']), row['embedding'].tolist(), row['metadata']) for index,row in doctor.iterrows()]"
   ]
  },
  {
   "cell_type": "code",
   "execution_count": 49,
   "metadata": {},
   "outputs": [
    {
     "name": "stdout",
     "output_type": "stream",
     "text": [
      "data upserted\n"
     ]
    }
   ],
   "source": [
    "index.upsert(vectors = vectors_to_upsert)\n",
    "print(\"data upserted\")"
   ]
  },
  {
   "cell_type": "code",
   "execution_count": 54,
   "metadata": {},
   "outputs": [
    {
     "name": "stdout",
     "output_type": "stream",
     "text": [
      "Matched item ID: 1, Score: 0.671745598\n",
      "possible_disease: Bacterial Infections \n",
      " treatment_drug: Amoxycillin \n",
      " type_of_drug: Penicillin \n",
      " medicine_name: Augmentin 625 Duo Tablet \n",
      " symptoms: fever, cough \n",
      " daily_adult_dosage: 2.0 \n",
      " num_days: 7.0 \n",
      " price: 22.342\n",
      "Matched item ID: 20, Score: 0.614263475\n",
      "possible_disease: Nausea \n",
      " treatment_drug: Ondansetron \n",
      " type_of_drug: Antiemetic \n",
      " medicine_name: Anset 4mg Tablet MD \n",
      " symptoms: vomiting \n",
      " daily_adult_dosage: 1.0 \n",
      " num_days: 5.0 \n",
      " price: 4.9\n"
     ]
    }
   ],
   "source": [
    "# hit queries and test relevancies\n",
    "query = 'fever, headache, cough, nausea, vomiting'\n",
    "score_threshold = 0.3\n",
    "query_embedding = model.encode(query, show_progress_bar=False).tolist()\n",
    "query_results = index.query(\n",
    "    vector = [query_embedding],\n",
    "    top_k=2,\n",
    "    include_metadata=True\n",
    ")\n",
    "for match in query_results['matches']:\n",
    "    if match['score'] >= score_threshold:\n",
    "        details = match.get('metadata', {})\n",
    "        possible_disease = details.get('disease', 'N/A')\n",
    "        medicine_name = details.get('medicine_name', 'N/A')\n",
    "        treatment_drug = details.get('treatment_drug', 'N/A')\n",
    "        type_of_drug = details.get('type_of_drug', 'N/A')\n",
    "        symptoms = details.get('symptoms', 'N/A')\n",
    "        daily_adult_dosage = details.get('daily_adult_dosage', 'N/A')\n",
    "        num_days = details.get('num_days', 'N/A')\n",
    "        price = details.get('price/unit', 'N/A')\n",
    "        \n",
    "        print(f\"Matched item ID: {match['id']}, Score: {match['score']}\")\n",
    "        print(f\"possible_disease: {possible_disease} \\n treatment_drug: {treatment_drug} \\n type_of_drug: {type_of_drug} \\n medicine_name: {medicine_name} \\n symptoms: {symptoms} \\n daily_adult_dosage: {daily_adult_dosage} \\n num_days: {num_days} \\n price: {price}\",\n",
    "              )"
   ]
  }
 ],
 "metadata": {
  "kernelspec": {
   "display_name": "gpu_ml",
   "language": "python",
   "name": "python3"
  },
  "language_info": {
   "codemirror_mode": {
    "name": "ipython",
    "version": 3
   },
   "file_extension": ".py",
   "mimetype": "text/x-python",
   "name": "python",
   "nbconvert_exporter": "python",
   "pygments_lexer": "ipython3",
   "version": "3.10.15"
  }
 },
 "nbformat": 4,
 "nbformat_minor": 2
}
